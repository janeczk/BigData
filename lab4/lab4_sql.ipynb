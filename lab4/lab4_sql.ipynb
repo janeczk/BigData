{
 "cells": [
  {
   "cell_type": "code",
   "execution_count": 0,
   "metadata": {
    "application/vnd.databricks.v1+cell": {
     "cellMetadata": {
      "byteLimit": 2048000,
      "implicitDf": true,
      "rowLimit": 10000
     },
     "inputWidgets": {},
     "nuid": "e33371b4-9646-483b-9189-81bb79ced955",
     "showTitle": false,
     "tableResultSettingsMap": {},
     "title": ""
    }
   },
   "outputs": [
    {
     "output_type": "display_data",
     "data": {
      "text/html": [
       "<style scoped>\n",
       "  .table-result-container {\n",
       "    max-height: 300px;\n",
       "    overflow: auto;\n",
       "  }\n",
       "  table, th, td {\n",
       "    border: 1px solid black;\n",
       "    border-collapse: collapse;\n",
       "  }\n",
       "  th, td {\n",
       "    padding: 5px;\n",
       "  }\n",
       "  th {\n",
       "    text-align: left;\n",
       "  }\n",
       "</style><div class='table-result-container'><table class='table-result'><thead style='background-color: white'><tr></tr></thead><tbody></tbody></table></div>"
      ]
     },
     "metadata": {
      "application/vnd.databricks.v1+output": {
       "addedWidgets": {},
       "aggData": [],
       "aggError": "",
       "aggOverflow": false,
       "aggSchema": [],
       "aggSeriesLimitReached": false,
       "aggType": "",
       "arguments": {},
       "columnCustomDisplayInfos": {},
       "data": [],
       "datasetInfos": [],
       "dbfsResultPath": null,
       "isJsonSchema": true,
       "metadata": {},
       "overflow": false,
       "plotOptions": {
        "customPlotOptions": {},
        "displayType": "table",
        "pivotAggregation": null,
        "pivotColumns": null,
        "xColumns": null,
        "yColumns": null
       },
       "removedWidgets": [],
       "schema": [],
       "type": "table"
      }
     },
     "output_type": "display_data"
    }
   ],
   "source": [
    "\n",
    "%sql\n",
    "Create database if not exists Sample"
   ]
  },
  {
   "cell_type": "code",
   "execution_count": 0,
   "metadata": {
    "application/vnd.databricks.v1+cell": {
     "cellMetadata": {
      "byteLimit": 2048000,
      "implicitDf": true,
      "rowLimit": 10000
     },
     "inputWidgets": {},
     "nuid": "024e1727-04fd-4d18-8c36-3444f951aeb2",
     "showTitle": false,
     "tableResultSettingsMap": {},
     "title": ""
    }
   },
   "outputs": [
    {
     "output_type": "display_data",
     "data": {
      "text/html": [
       "<style scoped>\n",
       "  .table-result-container {\n",
       "    max-height: 300px;\n",
       "    overflow: auto;\n",
       "  }\n",
       "  table, th, td {\n",
       "    border: 1px solid black;\n",
       "    border-collapse: collapse;\n",
       "  }\n",
       "  th, td {\n",
       "    padding: 5px;\n",
       "  }\n",
       "  th {\n",
       "    text-align: left;\n",
       "  }\n",
       "</style><div class='table-result-container'><table class='table-result'><thead style='background-color: white'><tr></tr></thead><tbody></tbody></table></div>"
      ]
     },
     "metadata": {
      "application/vnd.databricks.v1+output": {
       "addedWidgets": {},
       "aggData": [],
       "aggError": "",
       "aggOverflow": false,
       "aggSchema": [],
       "aggSeriesLimitReached": false,
       "aggType": "",
       "arguments": {},
       "columnCustomDisplayInfos": {},
       "data": [],
       "datasetInfos": [],
       "dbfsResultPath": null,
       "isJsonSchema": true,
       "metadata": {},
       "overflow": false,
       "plotOptions": {
        "customPlotOptions": {},
        "displayType": "table",
        "pivotAggregation": null,
        "pivotColumns": null,
        "xColumns": null,
        "yColumns": null
       },
       "removedWidgets": [],
       "schema": [],
       "type": "table"
      }
     },
     "output_type": "display_data"
    }
   ],
   "source": [
    "\n",
    "%sql\n",
    "\n",
    "CREATE TABLE IF NOT EXISTS Sample.Transactions ( AccountId INT, TranDate DATE, TranAmt DECIMAL(8, 2));\n",
    "\n",
    "CREATE TABLE IF NOT EXISTS Sample.Logical (RowID INT,FName VARCHAR(20), Salary SMALLINT);\n",
    "     "
   ]
  },
  {
   "cell_type": "code",
   "execution_count": 0,
   "metadata": {
    "application/vnd.databricks.v1+cell": {
     "cellMetadata": {
      "byteLimit": 2048000,
      "implicitDf": true,
      "rowLimit": 10000
     },
     "inputWidgets": {},
     "nuid": "c5a4cd80-c038-463e-aa43-5b333ff2649d",
     "showTitle": false,
     "tableResultSettingsMap": {},
     "title": ""
    }
   },
   "outputs": [
    {
     "output_type": "display_data",
     "data": {
      "text/html": [
       "<style scoped>\n",
       "  .table-result-container {\n",
       "    max-height: 300px;\n",
       "    overflow: auto;\n",
       "  }\n",
       "  table, th, td {\n",
       "    border: 1px solid black;\n",
       "    border-collapse: collapse;\n",
       "  }\n",
       "  th, td {\n",
       "    padding: 5px;\n",
       "  }\n",
       "  th {\n",
       "    text-align: left;\n",
       "  }\n",
       "</style><div class='table-result-container'><table class='table-result'><thead style='background-color: white'><tr><th>num_affected_rows</th><th>num_inserted_rows</th></tr></thead><tbody><tr><td>18</td><td>18</td></tr></tbody></table></div>"
      ]
     },
     "metadata": {
      "application/vnd.databricks.v1+output": {
       "addedWidgets": {},
       "aggData": [],
       "aggError": "",
       "aggOverflow": false,
       "aggSchema": [],
       "aggSeriesLimitReached": false,
       "aggType": "",
       "arguments": {},
       "columnCustomDisplayInfos": {},
       "data": [
        [
         18,
         18
        ]
       ],
       "datasetInfos": [],
       "dbfsResultPath": null,
       "isJsonSchema": true,
       "metadata": {},
       "overflow": false,
       "plotOptions": {
        "customPlotOptions": {},
        "displayType": "table",
        "pivotAggregation": null,
        "pivotColumns": null,
        "xColumns": null,
        "yColumns": null
       },
       "removedWidgets": [],
       "schema": [
        {
         "metadata": "{}",
         "name": "num_affected_rows",
         "type": "\"long\""
        },
        {
         "metadata": "{}",
         "name": "num_inserted_rows",
         "type": "\"long\""
        }
       ],
       "type": "table"
      }
     },
     "output_type": "display_data"
    }
   ],
   "source": [
    "%sql\n",
    "\n",
    "INSERT INTO Sample.Transactions VALUES \n",
    "( 1, '2011-01-01', 500),\n",
    "( 1, '2011-01-15', 50),\n",
    "( 1, '2011-01-22', 250),\n",
    "( 1, '2011-01-24', 75),\n",
    "( 1, '2011-01-26', 125),\n",
    "( 1, '2011-01-28', 175),\n",
    "( 2, '2011-01-01', 500),\n",
    "( 2, '2011-01-15', 50),\n",
    "( 2, '2011-01-22', 25),\n",
    "( 2, '2011-01-23', 125),\n",
    "( 2, '2011-01-26', 200),\n",
    "( 2, '2011-01-29', 250),\n",
    "( 3, '2011-01-01', 500),\n",
    "( 3, '2011-01-15', 50 ),\n",
    "( 3, '2011-01-22', 5000),\n",
    "( 3, '2011-01-25', 550),\n",
    "( 3, '2011-01-27', 95 ),\n",
    "( 3, '2011-01-30', 2500)"
   ]
  },
  {
   "cell_type": "code",
   "execution_count": 0,
   "metadata": {
    "application/vnd.databricks.v1+cell": {
     "cellMetadata": {
      "byteLimit": 2048000,
      "implicitDf": true,
      "rowLimit": 10000
     },
     "inputWidgets": {},
     "nuid": "0a6b4b81-d3bb-4ea1-9f83-5090a775109a",
     "showTitle": false,
     "tableResultSettingsMap": {},
     "title": ""
    }
   },
   "outputs": [
    {
     "output_type": "display_data",
     "data": {
      "text/html": [
       "<style scoped>\n",
       "  .table-result-container {\n",
       "    max-height: 300px;\n",
       "    overflow: auto;\n",
       "  }\n",
       "  table, th, td {\n",
       "    border: 1px solid black;\n",
       "    border-collapse: collapse;\n",
       "  }\n",
       "  th, td {\n",
       "    padding: 5px;\n",
       "  }\n",
       "  th {\n",
       "    text-align: left;\n",
       "  }\n",
       "</style><div class='table-result-container'><table class='table-result'><thead style='background-color: white'><tr><th>num_affected_rows</th><th>num_inserted_rows</th></tr></thead><tbody><tr><td>14</td><td>14</td></tr></tbody></table></div>"
      ]
     },
     "metadata": {
      "application/vnd.databricks.v1+output": {
       "addedWidgets": {},
       "aggData": [],
       "aggError": "",
       "aggOverflow": false,
       "aggSchema": [],
       "aggSeriesLimitReached": false,
       "aggType": "",
       "arguments": {},
       "columnCustomDisplayInfos": {},
       "data": [
        [
         14,
         14
        ]
       ],
       "datasetInfos": [],
       "dbfsResultPath": null,
       "isJsonSchema": true,
       "metadata": {},
       "overflow": false,
       "plotOptions": {
        "customPlotOptions": {},
        "displayType": "table",
        "pivotAggregation": null,
        "pivotColumns": null,
        "xColumns": null,
        "yColumns": null
       },
       "removedWidgets": [],
       "schema": [
        {
         "metadata": "{}",
         "name": "num_affected_rows",
         "type": "\"long\""
        },
        {
         "metadata": "{}",
         "name": "num_inserted_rows",
         "type": "\"long\""
        }
       ],
       "type": "table"
      }
     },
     "output_type": "display_data"
    }
   ],
   "source": [
    "%sql\n",
    "INSERT INTO Sample.Logical\n",
    "VALUES (1,'George', 800),\n",
    "(2,'Sam', 950),\n",
    "(3,'Diane', 1100),\n",
    "(4,'Nicholas', 1250),\n",
    "(5,'Samuel', 1250),\n",
    "(6,'Patricia', 1300),\n",
    "(7,'Brian', 1500),\n",
    "(8,'Thomas', 1600),\n",
    "(9,'Fran', 2450),\n",
    "(10,'Debbie', 2850),\n",
    "(11,'Mark', 2975),\n",
    "(12,'James', 3000),\n",
    "(13,'Cynthia', 3000),\n",
    "(14,'Christopher', 5000);"
   ]
  },
  {
   "cell_type": "code",
   "execution_count": 0,
   "metadata": {
    "application/vnd.databricks.v1+cell": {
     "cellMetadata": {
      "byteLimit": 2048000,
      "rowLimit": 10000
     },
     "inputWidgets": {},
     "nuid": "ce063507-603d-44fb-97f1-19a81ecf8bca",
     "showTitle": false,
     "tableResultSettingsMap": {},
     "title": ""
    }
   },
   "outputs": [
    {
     "output_type": "display_data",
     "data": {
      "text/html": [
       "<style scoped>\n",
       "  .table-result-container {\n",
       "    max-height: 300px;\n",
       "    overflow: auto;\n",
       "  }\n",
       "  table, th, td {\n",
       "    border: 1px solid black;\n",
       "    border-collapse: collapse;\n",
       "  }\n",
       "  th, td {\n",
       "    padding: 5px;\n",
       "  }\n",
       "  th {\n",
       "    text-align: left;\n",
       "  }\n",
       "</style><div class='table-result-container'><table class='table-result'><thead style='background-color: white'><tr><th>AccountId</th><th>TranDate</th><th>TranAmt</th></tr></thead><tbody><tr><td>1</td><td>2011-01-01</td><td>500.00</td></tr><tr><td>1</td><td>2011-01-15</td><td>50.00</td></tr><tr><td>1</td><td>2011-01-22</td><td>250.00</td></tr><tr><td>1</td><td>2011-01-24</td><td>75.00</td></tr><tr><td>1</td><td>2011-01-26</td><td>125.00</td></tr><tr><td>1</td><td>2011-01-28</td><td>175.00</td></tr><tr><td>2</td><td>2011-01-01</td><td>500.00</td></tr><tr><td>2</td><td>2011-01-15</td><td>50.00</td></tr><tr><td>2</td><td>2011-01-22</td><td>25.00</td></tr><tr><td>2</td><td>2011-01-23</td><td>125.00</td></tr><tr><td>2</td><td>2011-01-26</td><td>200.00</td></tr><tr><td>2</td><td>2011-01-29</td><td>250.00</td></tr><tr><td>3</td><td>2011-01-01</td><td>500.00</td></tr><tr><td>3</td><td>2011-01-15</td><td>50.00</td></tr><tr><td>3</td><td>2011-01-22</td><td>5000.00</td></tr><tr><td>3</td><td>2011-01-25</td><td>550.00</td></tr><tr><td>3</td><td>2011-01-27</td><td>95.00</td></tr><tr><td>3</td><td>2011-01-30</td><td>2500.00</td></tr><tr><td>1</td><td>2011-01-01</td><td>500.00</td></tr><tr><td>1</td><td>2011-01-15</td><td>50.00</td></tr><tr><td>1</td><td>2011-01-22</td><td>250.00</td></tr><tr><td>1</td><td>2011-01-24</td><td>75.00</td></tr><tr><td>1</td><td>2011-01-26</td><td>125.00</td></tr><tr><td>1</td><td>2011-01-28</td><td>175.00</td></tr><tr><td>2</td><td>2011-01-01</td><td>500.00</td></tr><tr><td>2</td><td>2011-01-15</td><td>50.00</td></tr><tr><td>2</td><td>2011-01-22</td><td>25.00</td></tr><tr><td>2</td><td>2011-01-23</td><td>125.00</td></tr><tr><td>2</td><td>2011-01-26</td><td>200.00</td></tr><tr><td>2</td><td>2011-01-29</td><td>250.00</td></tr><tr><td>3</td><td>2011-01-01</td><td>500.00</td></tr><tr><td>3</td><td>2011-01-15</td><td>50.00</td></tr><tr><td>3</td><td>2011-01-22</td><td>5000.00</td></tr><tr><td>3</td><td>2011-01-25</td><td>550.00</td></tr><tr><td>3</td><td>2011-01-27</td><td>95.00</td></tr><tr><td>3</td><td>2011-01-30</td><td>2500.00</td></tr><tr><td>1</td><td>2011-01-01</td><td>500.00</td></tr><tr><td>1</td><td>2011-01-15</td><td>50.00</td></tr><tr><td>1</td><td>2011-01-22</td><td>250.00</td></tr><tr><td>1</td><td>2011-01-24</td><td>75.00</td></tr><tr><td>1</td><td>2011-01-26</td><td>125.00</td></tr><tr><td>1</td><td>2011-01-28</td><td>175.00</td></tr><tr><td>2</td><td>2011-01-01</td><td>500.00</td></tr><tr><td>2</td><td>2011-01-15</td><td>50.00</td></tr><tr><td>2</td><td>2011-01-22</td><td>25.00</td></tr><tr><td>2</td><td>2011-01-23</td><td>125.00</td></tr><tr><td>2</td><td>2011-01-26</td><td>200.00</td></tr><tr><td>2</td><td>2011-01-29</td><td>250.00</td></tr><tr><td>3</td><td>2011-01-01</td><td>500.00</td></tr><tr><td>3</td><td>2011-01-15</td><td>50.00</td></tr><tr><td>3</td><td>2011-01-22</td><td>5000.00</td></tr><tr><td>3</td><td>2011-01-25</td><td>550.00</td></tr><tr><td>3</td><td>2011-01-27</td><td>95.00</td></tr><tr><td>3</td><td>2011-01-30</td><td>2500.00</td></tr></tbody></table></div>"
      ]
     },
     "metadata": {
      "application/vnd.databricks.v1+output": {
       "addedWidgets": {},
       "aggData": [],
       "aggError": "",
       "aggOverflow": false,
       "aggSchema": [],
       "aggSeriesLimitReached": false,
       "aggType": "",
       "arguments": {},
       "columnCustomDisplayInfos": {},
       "data": [
        [
         1,
         "2011-01-01",
         "500.00"
        ],
        [
         1,
         "2011-01-15",
         "50.00"
        ],
        [
         1,
         "2011-01-22",
         "250.00"
        ],
        [
         1,
         "2011-01-24",
         "75.00"
        ],
        [
         1,
         "2011-01-26",
         "125.00"
        ],
        [
         1,
         "2011-01-28",
         "175.00"
        ],
        [
         2,
         "2011-01-01",
         "500.00"
        ],
        [
         2,
         "2011-01-15",
         "50.00"
        ],
        [
         2,
         "2011-01-22",
         "25.00"
        ],
        [
         2,
         "2011-01-23",
         "125.00"
        ],
        [
         2,
         "2011-01-26",
         "200.00"
        ],
        [
         2,
         "2011-01-29",
         "250.00"
        ],
        [
         3,
         "2011-01-01",
         "500.00"
        ],
        [
         3,
         "2011-01-15",
         "50.00"
        ],
        [
         3,
         "2011-01-22",
         "5000.00"
        ],
        [
         3,
         "2011-01-25",
         "550.00"
        ],
        [
         3,
         "2011-01-27",
         "95.00"
        ],
        [
         3,
         "2011-01-30",
         "2500.00"
        ],
        [
         1,
         "2011-01-01",
         "500.00"
        ],
        [
         1,
         "2011-01-15",
         "50.00"
        ],
        [
         1,
         "2011-01-22",
         "250.00"
        ],
        [
         1,
         "2011-01-24",
         "75.00"
        ],
        [
         1,
         "2011-01-26",
         "125.00"
        ],
        [
         1,
         "2011-01-28",
         "175.00"
        ],
        [
         2,
         "2011-01-01",
         "500.00"
        ],
        [
         2,
         "2011-01-15",
         "50.00"
        ],
        [
         2,
         "2011-01-22",
         "25.00"
        ],
        [
         2,
         "2011-01-23",
         "125.00"
        ],
        [
         2,
         "2011-01-26",
         "200.00"
        ],
        [
         2,
         "2011-01-29",
         "250.00"
        ],
        [
         3,
         "2011-01-01",
         "500.00"
        ],
        [
         3,
         "2011-01-15",
         "50.00"
        ],
        [
         3,
         "2011-01-22",
         "5000.00"
        ],
        [
         3,
         "2011-01-25",
         "550.00"
        ],
        [
         3,
         "2011-01-27",
         "95.00"
        ],
        [
         3,
         "2011-01-30",
         "2500.00"
        ],
        [
         1,
         "2011-01-01",
         "500.00"
        ],
        [
         1,
         "2011-01-15",
         "50.00"
        ],
        [
         1,
         "2011-01-22",
         "250.00"
        ],
        [
         1,
         "2011-01-24",
         "75.00"
        ],
        [
         1,
         "2011-01-26",
         "125.00"
        ],
        [
         1,
         "2011-01-28",
         "175.00"
        ],
        [
         2,
         "2011-01-01",
         "500.00"
        ],
        [
         2,
         "2011-01-15",
         "50.00"
        ],
        [
         2,
         "2011-01-22",
         "25.00"
        ],
        [
         2,
         "2011-01-23",
         "125.00"
        ],
        [
         2,
         "2011-01-26",
         "200.00"
        ],
        [
         2,
         "2011-01-29",
         "250.00"
        ],
        [
         3,
         "2011-01-01",
         "500.00"
        ],
        [
         3,
         "2011-01-15",
         "50.00"
        ],
        [
         3,
         "2011-01-22",
         "5000.00"
        ],
        [
         3,
         "2011-01-25",
         "550.00"
        ],
        [
         3,
         "2011-01-27",
         "95.00"
        ],
        [
         3,
         "2011-01-30",
         "2500.00"
        ]
       ],
       "datasetInfos": [],
       "dbfsResultPath": null,
       "isJsonSchema": true,
       "metadata": {},
       "overflow": false,
       "plotOptions": {
        "customPlotOptions": {},
        "displayType": "table",
        "pivotAggregation": null,
        "pivotColumns": null,
        "xColumns": null,
        "yColumns": null
       },
       "removedWidgets": [],
       "schema": [
        {
         "metadata": "{}",
         "name": "AccountId",
         "type": "\"integer\""
        },
        {
         "metadata": "{}",
         "name": "TranDate",
         "type": "\"date\""
        },
        {
         "metadata": "{}",
         "name": "TranAmt",
         "type": "\"decimal(8,2)\""
        }
       ],
       "type": "table"
      }
     },
     "output_type": "display_data"
    }
   ],
   "source": [
    "from pyspark.sql.functions import *\n",
    "from pyspark.sql.window import Window\n",
    "df = spark.table(\"Sample.Transactions\")\n",
    "display(df)"
   ]
  },
  {
   "cell_type": "code",
   "execution_count": 0,
   "metadata": {
    "application/vnd.databricks.v1+cell": {
     "cellMetadata": {
      "byteLimit": 2048000,
      "rowLimit": 10000
     },
     "inputWidgets": {},
     "nuid": "9fb340c5-0ed2-4fab-b08c-6b6253559111",
     "showTitle": false,
     "tableResultSettingsMap": {},
     "title": ""
    }
   },
   "outputs": [
    {
     "output_type": "display_data",
     "data": {
      "text/html": [
       "<style scoped>\n",
       "  .table-result-container {\n",
       "    max-height: 300px;\n",
       "    overflow: auto;\n",
       "  }\n",
       "  table, th, td {\n",
       "    border: 1px solid black;\n",
       "    border-collapse: collapse;\n",
       "  }\n",
       "  th, td {\n",
       "    padding: 5px;\n",
       "  }\n",
       "  th {\n",
       "    text-align: left;\n",
       "  }\n",
       "</style><div class='table-result-container'><table class='table-result'><thead style='background-color: white'><tr><th>AccountId</th><th>TranDate</th><th>TranAmt</th><th>PrevTranAmt</th><th>NextTranAmt</th><th>FirstTranAmt</th><th>LastTranAmt</th><th>RowNum</th></tr></thead><tbody><tr><td>1</td><td>2011-01-01</td><td>500.00</td><td>null</td><td>500.00</td><td>500.00</td><td>500.00</td><td>1</td></tr><tr><td>1</td><td>2011-01-01</td><td>500.00</td><td>500.00</td><td>500.00</td><td>500.00</td><td>500.00</td><td>2</td></tr><tr><td>1</td><td>2011-01-01</td><td>500.00</td><td>500.00</td><td>50.00</td><td>500.00</td><td>500.00</td><td>3</td></tr><tr><td>1</td><td>2011-01-15</td><td>50.00</td><td>500.00</td><td>50.00</td><td>500.00</td><td>50.00</td><td>4</td></tr><tr><td>1</td><td>2011-01-15</td><td>50.00</td><td>50.00</td><td>50.00</td><td>500.00</td><td>50.00</td><td>5</td></tr><tr><td>1</td><td>2011-01-15</td><td>50.00</td><td>50.00</td><td>250.00</td><td>500.00</td><td>50.00</td><td>6</td></tr><tr><td>1</td><td>2011-01-22</td><td>250.00</td><td>50.00</td><td>250.00</td><td>500.00</td><td>250.00</td><td>7</td></tr><tr><td>1</td><td>2011-01-22</td><td>250.00</td><td>250.00</td><td>250.00</td><td>500.00</td><td>250.00</td><td>8</td></tr><tr><td>1</td><td>2011-01-22</td><td>250.00</td><td>250.00</td><td>75.00</td><td>500.00</td><td>250.00</td><td>9</td></tr><tr><td>1</td><td>2011-01-24</td><td>75.00</td><td>250.00</td><td>75.00</td><td>500.00</td><td>75.00</td><td>10</td></tr><tr><td>1</td><td>2011-01-24</td><td>75.00</td><td>75.00</td><td>75.00</td><td>500.00</td><td>75.00</td><td>11</td></tr><tr><td>1</td><td>2011-01-24</td><td>75.00</td><td>75.00</td><td>125.00</td><td>500.00</td><td>75.00</td><td>12</td></tr><tr><td>1</td><td>2011-01-26</td><td>125.00</td><td>75.00</td><td>125.00</td><td>500.00</td><td>125.00</td><td>13</td></tr><tr><td>1</td><td>2011-01-26</td><td>125.00</td><td>125.00</td><td>125.00</td><td>500.00</td><td>125.00</td><td>14</td></tr><tr><td>1</td><td>2011-01-26</td><td>125.00</td><td>125.00</td><td>175.00</td><td>500.00</td><td>125.00</td><td>15</td></tr><tr><td>1</td><td>2011-01-28</td><td>175.00</td><td>125.00</td><td>175.00</td><td>500.00</td><td>175.00</td><td>16</td></tr><tr><td>1</td><td>2011-01-28</td><td>175.00</td><td>175.00</td><td>175.00</td><td>500.00</td><td>175.00</td><td>17</td></tr><tr><td>1</td><td>2011-01-28</td><td>175.00</td><td>175.00</td><td>null</td><td>500.00</td><td>175.00</td><td>18</td></tr><tr><td>2</td><td>2011-01-01</td><td>500.00</td><td>null</td><td>500.00</td><td>500.00</td><td>500.00</td><td>1</td></tr><tr><td>2</td><td>2011-01-01</td><td>500.00</td><td>500.00</td><td>500.00</td><td>500.00</td><td>500.00</td><td>2</td></tr><tr><td>2</td><td>2011-01-01</td><td>500.00</td><td>500.00</td><td>50.00</td><td>500.00</td><td>500.00</td><td>3</td></tr><tr><td>2</td><td>2011-01-15</td><td>50.00</td><td>500.00</td><td>50.00</td><td>500.00</td><td>50.00</td><td>4</td></tr><tr><td>2</td><td>2011-01-15</td><td>50.00</td><td>50.00</td><td>50.00</td><td>500.00</td><td>50.00</td><td>5</td></tr><tr><td>2</td><td>2011-01-15</td><td>50.00</td><td>50.00</td><td>25.00</td><td>500.00</td><td>50.00</td><td>6</td></tr><tr><td>2</td><td>2011-01-22</td><td>25.00</td><td>50.00</td><td>25.00</td><td>500.00</td><td>25.00</td><td>7</td></tr><tr><td>2</td><td>2011-01-22</td><td>25.00</td><td>25.00</td><td>25.00</td><td>500.00</td><td>25.00</td><td>8</td></tr><tr><td>2</td><td>2011-01-22</td><td>25.00</td><td>25.00</td><td>125.00</td><td>500.00</td><td>25.00</td><td>9</td></tr><tr><td>2</td><td>2011-01-23</td><td>125.00</td><td>25.00</td><td>125.00</td><td>500.00</td><td>125.00</td><td>10</td></tr><tr><td>2</td><td>2011-01-23</td><td>125.00</td><td>125.00</td><td>125.00</td><td>500.00</td><td>125.00</td><td>11</td></tr><tr><td>2</td><td>2011-01-23</td><td>125.00</td><td>125.00</td><td>200.00</td><td>500.00</td><td>125.00</td><td>12</td></tr><tr><td>2</td><td>2011-01-26</td><td>200.00</td><td>125.00</td><td>200.00</td><td>500.00</td><td>200.00</td><td>13</td></tr><tr><td>2</td><td>2011-01-26</td><td>200.00</td><td>200.00</td><td>200.00</td><td>500.00</td><td>200.00</td><td>14</td></tr><tr><td>2</td><td>2011-01-26</td><td>200.00</td><td>200.00</td><td>250.00</td><td>500.00</td><td>200.00</td><td>15</td></tr><tr><td>2</td><td>2011-01-29</td><td>250.00</td><td>200.00</td><td>250.00</td><td>500.00</td><td>250.00</td><td>16</td></tr><tr><td>2</td><td>2011-01-29</td><td>250.00</td><td>250.00</td><td>250.00</td><td>500.00</td><td>250.00</td><td>17</td></tr><tr><td>2</td><td>2011-01-29</td><td>250.00</td><td>250.00</td><td>null</td><td>500.00</td><td>250.00</td><td>18</td></tr><tr><td>3</td><td>2011-01-01</td><td>500.00</td><td>null</td><td>500.00</td><td>500.00</td><td>500.00</td><td>1</td></tr><tr><td>3</td><td>2011-01-01</td><td>500.00</td><td>500.00</td><td>500.00</td><td>500.00</td><td>500.00</td><td>2</td></tr><tr><td>3</td><td>2011-01-01</td><td>500.00</td><td>500.00</td><td>50.00</td><td>500.00</td><td>500.00</td><td>3</td></tr><tr><td>3</td><td>2011-01-15</td><td>50.00</td><td>500.00</td><td>50.00</td><td>500.00</td><td>50.00</td><td>4</td></tr><tr><td>3</td><td>2011-01-15</td><td>50.00</td><td>50.00</td><td>50.00</td><td>500.00</td><td>50.00</td><td>5</td></tr><tr><td>3</td><td>2011-01-15</td><td>50.00</td><td>50.00</td><td>5000.00</td><td>500.00</td><td>50.00</td><td>6</td></tr><tr><td>3</td><td>2011-01-22</td><td>5000.00</td><td>50.00</td><td>5000.00</td><td>500.00</td><td>5000.00</td><td>7</td></tr><tr><td>3</td><td>2011-01-22</td><td>5000.00</td><td>5000.00</td><td>5000.00</td><td>500.00</td><td>5000.00</td><td>8</td></tr><tr><td>3</td><td>2011-01-22</td><td>5000.00</td><td>5000.00</td><td>550.00</td><td>500.00</td><td>5000.00</td><td>9</td></tr><tr><td>3</td><td>2011-01-25</td><td>550.00</td><td>5000.00</td><td>550.00</td><td>500.00</td><td>550.00</td><td>10</td></tr><tr><td>3</td><td>2011-01-25</td><td>550.00</td><td>550.00</td><td>550.00</td><td>500.00</td><td>550.00</td><td>11</td></tr><tr><td>3</td><td>2011-01-25</td><td>550.00</td><td>550.00</td><td>95.00</td><td>500.00</td><td>550.00</td><td>12</td></tr><tr><td>3</td><td>2011-01-27</td><td>95.00</td><td>550.00</td><td>95.00</td><td>500.00</td><td>95.00</td><td>13</td></tr><tr><td>3</td><td>2011-01-27</td><td>95.00</td><td>95.00</td><td>95.00</td><td>500.00</td><td>95.00</td><td>14</td></tr><tr><td>3</td><td>2011-01-27</td><td>95.00</td><td>95.00</td><td>2500.00</td><td>500.00</td><td>95.00</td><td>15</td></tr><tr><td>3</td><td>2011-01-30</td><td>2500.00</td><td>95.00</td><td>2500.00</td><td>500.00</td><td>2500.00</td><td>16</td></tr><tr><td>3</td><td>2011-01-30</td><td>2500.00</td><td>2500.00</td><td>2500.00</td><td>500.00</td><td>2500.00</td><td>17</td></tr><tr><td>3</td><td>2011-01-30</td><td>2500.00</td><td>2500.00</td><td>null</td><td>500.00</td><td>2500.00</td><td>18</td></tr></tbody></table></div>"
      ]
     },
     "metadata": {
      "application/vnd.databricks.v1+output": {
       "addedWidgets": {},
       "aggData": [],
       "aggError": "",
       "aggOverflow": false,
       "aggSchema": [],
       "aggSeriesLimitReached": false,
       "aggType": "",
       "arguments": {},
       "columnCustomDisplayInfos": {},
       "data": [
        [
         1,
         "2011-01-01",
         "500.00",
         null,
         "500.00",
         "500.00",
         "500.00",
         1
        ],
        [
         1,
         "2011-01-01",
         "500.00",
         "500.00",
         "500.00",
         "500.00",
         "500.00",
         2
        ],
        [
         1,
         "2011-01-01",
         "500.00",
         "500.00",
         "50.00",
         "500.00",
         "500.00",
         3
        ],
        [
         1,
         "2011-01-15",
         "50.00",
         "500.00",
         "50.00",
         "500.00",
         "50.00",
         4
        ],
        [
         1,
         "2011-01-15",
         "50.00",
         "50.00",
         "50.00",
         "500.00",
         "50.00",
         5
        ],
        [
         1,
         "2011-01-15",
         "50.00",
         "50.00",
         "250.00",
         "500.00",
         "50.00",
         6
        ],
        [
         1,
         "2011-01-22",
         "250.00",
         "50.00",
         "250.00",
         "500.00",
         "250.00",
         7
        ],
        [
         1,
         "2011-01-22",
         "250.00",
         "250.00",
         "250.00",
         "500.00",
         "250.00",
         8
        ],
        [
         1,
         "2011-01-22",
         "250.00",
         "250.00",
         "75.00",
         "500.00",
         "250.00",
         9
        ],
        [
         1,
         "2011-01-24",
         "75.00",
         "250.00",
         "75.00",
         "500.00",
         "75.00",
         10
        ],
        [
         1,
         "2011-01-24",
         "75.00",
         "75.00",
         "75.00",
         "500.00",
         "75.00",
         11
        ],
        [
         1,
         "2011-01-24",
         "75.00",
         "75.00",
         "125.00",
         "500.00",
         "75.00",
         12
        ],
        [
         1,
         "2011-01-26",
         "125.00",
         "75.00",
         "125.00",
         "500.00",
         "125.00",
         13
        ],
        [
         1,
         "2011-01-26",
         "125.00",
         "125.00",
         "125.00",
         "500.00",
         "125.00",
         14
        ],
        [
         1,
         "2011-01-26",
         "125.00",
         "125.00",
         "175.00",
         "500.00",
         "125.00",
         15
        ],
        [
         1,
         "2011-01-28",
         "175.00",
         "125.00",
         "175.00",
         "500.00",
         "175.00",
         16
        ],
        [
         1,
         "2011-01-28",
         "175.00",
         "175.00",
         "175.00",
         "500.00",
         "175.00",
         17
        ],
        [
         1,
         "2011-01-28",
         "175.00",
         "175.00",
         null,
         "500.00",
         "175.00",
         18
        ],
        [
         2,
         "2011-01-01",
         "500.00",
         null,
         "500.00",
         "500.00",
         "500.00",
         1
        ],
        [
         2,
         "2011-01-01",
         "500.00",
         "500.00",
         "500.00",
         "500.00",
         "500.00",
         2
        ],
        [
         2,
         "2011-01-01",
         "500.00",
         "500.00",
         "50.00",
         "500.00",
         "500.00",
         3
        ],
        [
         2,
         "2011-01-15",
         "50.00",
         "500.00",
         "50.00",
         "500.00",
         "50.00",
         4
        ],
        [
         2,
         "2011-01-15",
         "50.00",
         "50.00",
         "50.00",
         "500.00",
         "50.00",
         5
        ],
        [
         2,
         "2011-01-15",
         "50.00",
         "50.00",
         "25.00",
         "500.00",
         "50.00",
         6
        ],
        [
         2,
         "2011-01-22",
         "25.00",
         "50.00",
         "25.00",
         "500.00",
         "25.00",
         7
        ],
        [
         2,
         "2011-01-22",
         "25.00",
         "25.00",
         "25.00",
         "500.00",
         "25.00",
         8
        ],
        [
         2,
         "2011-01-22",
         "25.00",
         "25.00",
         "125.00",
         "500.00",
         "25.00",
         9
        ],
        [
         2,
         "2011-01-23",
         "125.00",
         "25.00",
         "125.00",
         "500.00",
         "125.00",
         10
        ],
        [
         2,
         "2011-01-23",
         "125.00",
         "125.00",
         "125.00",
         "500.00",
         "125.00",
         11
        ],
        [
         2,
         "2011-01-23",
         "125.00",
         "125.00",
         "200.00",
         "500.00",
         "125.00",
         12
        ],
        [
         2,
         "2011-01-26",
         "200.00",
         "125.00",
         "200.00",
         "500.00",
         "200.00",
         13
        ],
        [
         2,
         "2011-01-26",
         "200.00",
         "200.00",
         "200.00",
         "500.00",
         "200.00",
         14
        ],
        [
         2,
         "2011-01-26",
         "200.00",
         "200.00",
         "250.00",
         "500.00",
         "200.00",
         15
        ],
        [
         2,
         "2011-01-29",
         "250.00",
         "200.00",
         "250.00",
         "500.00",
         "250.00",
         16
        ],
        [
         2,
         "2011-01-29",
         "250.00",
         "250.00",
         "250.00",
         "500.00",
         "250.00",
         17
        ],
        [
         2,
         "2011-01-29",
         "250.00",
         "250.00",
         null,
         "500.00",
         "250.00",
         18
        ],
        [
         3,
         "2011-01-01",
         "500.00",
         null,
         "500.00",
         "500.00",
         "500.00",
         1
        ],
        [
         3,
         "2011-01-01",
         "500.00",
         "500.00",
         "500.00",
         "500.00",
         "500.00",
         2
        ],
        [
         3,
         "2011-01-01",
         "500.00",
         "500.00",
         "50.00",
         "500.00",
         "500.00",
         3
        ],
        [
         3,
         "2011-01-15",
         "50.00",
         "500.00",
         "50.00",
         "500.00",
         "50.00",
         4
        ],
        [
         3,
         "2011-01-15",
         "50.00",
         "50.00",
         "50.00",
         "500.00",
         "50.00",
         5
        ],
        [
         3,
         "2011-01-15",
         "50.00",
         "50.00",
         "5000.00",
         "500.00",
         "50.00",
         6
        ],
        [
         3,
         "2011-01-22",
         "5000.00",
         "50.00",
         "5000.00",
         "500.00",
         "5000.00",
         7
        ],
        [
         3,
         "2011-01-22",
         "5000.00",
         "5000.00",
         "5000.00",
         "500.00",
         "5000.00",
         8
        ],
        [
         3,
         "2011-01-22",
         "5000.00",
         "5000.00",
         "550.00",
         "500.00",
         "5000.00",
         9
        ],
        [
         3,
         "2011-01-25",
         "550.00",
         "5000.00",
         "550.00",
         "500.00",
         "550.00",
         10
        ],
        [
         3,
         "2011-01-25",
         "550.00",
         "550.00",
         "550.00",
         "500.00",
         "550.00",
         11
        ],
        [
         3,
         "2011-01-25",
         "550.00",
         "550.00",
         "95.00",
         "500.00",
         "550.00",
         12
        ],
        [
         3,
         "2011-01-27",
         "95.00",
         "550.00",
         "95.00",
         "500.00",
         "95.00",
         13
        ],
        [
         3,
         "2011-01-27",
         "95.00",
         "95.00",
         "95.00",
         "500.00",
         "95.00",
         14
        ],
        [
         3,
         "2011-01-27",
         "95.00",
         "95.00",
         "2500.00",
         "500.00",
         "95.00",
         15
        ],
        [
         3,
         "2011-01-30",
         "2500.00",
         "95.00",
         "2500.00",
         "500.00",
         "2500.00",
         16
        ],
        [
         3,
         "2011-01-30",
         "2500.00",
         "2500.00",
         "2500.00",
         "500.00",
         "2500.00",
         17
        ],
        [
         3,
         "2011-01-30",
         "2500.00",
         "2500.00",
         null,
         "500.00",
         "2500.00",
         18
        ]
       ],
       "datasetInfos": [],
       "dbfsResultPath": null,
       "isJsonSchema": true,
       "metadata": {},
       "overflow": false,
       "plotOptions": {
        "customPlotOptions": {},
        "displayType": "table",
        "pivotAggregation": null,
        "pivotColumns": null,
        "xColumns": null,
        "yColumns": null
       },
       "removedWidgets": [],
       "schema": [
        {
         "metadata": "{}",
         "name": "AccountId",
         "type": "\"integer\""
        },
        {
         "metadata": "{}",
         "name": "TranDate",
         "type": "\"date\""
        },
        {
         "metadata": "{}",
         "name": "TranAmt",
         "type": "\"decimal(8,2)\""
        },
        {
         "metadata": "{}",
         "name": "PrevTranAmt",
         "type": "\"decimal(8,2)\""
        },
        {
         "metadata": "{}",
         "name": "NextTranAmt",
         "type": "\"decimal(8,2)\""
        },
        {
         "metadata": "{}",
         "name": "FirstTranAmt",
         "type": "\"decimal(8,2)\""
        },
        {
         "metadata": "{}",
         "name": "LastTranAmt",
         "type": "\"decimal(8,2)\""
        },
        {
         "metadata": "{}",
         "name": "RowNum",
         "type": "\"integer\""
        }
       ],
       "type": "table"
      }
     },
     "output_type": "display_data"
    }
   ],
   "source": [
    "win = Window.partitionBy(\"AccountId\").orderBy(\"TranDate\")\n",
    "\n",
    "df_windowed = (\n",
    "    df\n",
    "    # pobiera wartość TranAmt z poprzedniego wiersza\n",
    "    .withColumn(\"PrevTranAmt\", lag(\"TranAmt\", 1).over(win))\n",
    "    \n",
    "    # pobiera wartość TranAmt z następnego wiersza\n",
    "    .withColumn(\"NextTranAmt\", lead(\"TranAmt\", 1).over(win))\n",
    "    \n",
    "    # pokazuje pierwszą kwotę transakcji dla danego konta\n",
    "    .withColumn(\"FirstTranAmt\", first(\"TranAmt\").over(win))\n",
    "    \n",
    "    # pokazuje ostatnią kwotę transakcji do tego momentu dla danego konta\n",
    "    .withColumn(\"LastTranAmt\", last(\"TranAmt\").over(win))\n",
    "    \n",
    "    # nadaje numer porządkowy każdej transakcji\n",
    "    .withColumn(\"RowNum\", row_number().over(win))\n",
    ")\n",
    "display(df_windowed)"
   ]
  },
  {
   "cell_type": "code",
   "execution_count": 0,
   "metadata": {
    "application/vnd.databricks.v1+cell": {
     "cellMetadata": {
      "byteLimit": 2048000,
      "rowLimit": 10000
     },
     "inputWidgets": {},
     "nuid": "45e1dc08-97ec-4894-b90f-5c3b2b7ed2d2",
     "showTitle": false,
     "tableResultSettingsMap": {},
     "title": ""
    }
   },
   "outputs": [],
   "source": []
  }
 ],
 "metadata": {
  "application/vnd.databricks.v1+notebook": {
   "computePreferences": null,
   "dashboards": [],
   "environmentMetadata": {
    "base_environment": "",
    "environment_version": "1"
   },
   "inputWidgetPreferences": null,
   "language": "python",
   "notebookMetadata": {
    "mostRecentlyExecutedCommandWithImplicitDF": {
     "commandId": 3365727672239781,
     "dataframes": [
      "_sqldf"
     ]
    },
    "pythonIndentUnit": 4
   },
   "notebookName": "lab4_sql",
   "widgets": {}
  }
 },
 "nbformat": 4,
 "nbformat_minor": 0
}